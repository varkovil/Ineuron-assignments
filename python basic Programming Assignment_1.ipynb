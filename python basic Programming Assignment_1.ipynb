{
 "cells": [
  {
   "cell_type": "code",
   "execution_count": 1,
   "id": "0cc68a2b",
   "metadata": {},
   "outputs": [
    {
     "name": "stdout",
     "output_type": "stream",
     "text": [
      "hello python\n"
     ]
    }
   ],
   "source": [
    "#program to print \n",
    "print('hello python')"
   ]
  },
  {
   "cell_type": "code",
   "execution_count": 2,
   "id": "f361929f",
   "metadata": {},
   "outputs": [
    {
     "name": "stdout",
     "output_type": "stream",
     "text": [
      "12334\n",
      "84993\n",
      "the sum of the nos is 97327\n",
      "the quotient of division is 0.1451178332333251\n"
     ]
    }
   ],
   "source": [
    "#program to do arithmetical operations addition and division\n",
    "a= int(input())\n",
    "b= int(input())\n",
    "s=a+b\n",
    "q=a/b\n",
    "print('the sum of the nos is', s)\n",
    "print('the quotient of division is',q)\n"
   ]
  },
  {
   "cell_type": "code",
   "execution_count": 3,
   "id": "6e6322ab",
   "metadata": {},
   "outputs": [
    {
     "name": "stdout",
     "output_type": "stream",
     "text": [
      "enter the base of the triangle\n",
      "78\n",
      "enter the height of the triangle\n",
      "54\n",
      "the area of triangle is 2106.0\n"
     ]
    }
   ],
   "source": [
    "#program to find area of triangle\n",
    "print('enter the base of the triangle')\n",
    "b=int(input())\n",
    "print('enter the height of the triangle')\n",
    "h=int(input())\n",
    "area=0.5*b*h\n",
    "print('the area of triangle is', area )"
   ]
  },
  {
   "cell_type": "code",
   "execution_count": 7,
   "id": "fca22493",
   "metadata": {},
   "outputs": [
    {
     "name": "stdout",
     "output_type": "stream",
     "text": [
      "enter the first float variable v1\n",
      "90.314545\n",
      "enter the second float variable v2\n",
      "789900.44312\n",
      "the swapped variables are v1,v2= 789900.44312 , 90.314545\n"
     ]
    }
   ],
   "source": [
    "#program to swap two variables\n",
    "print('enter the first float variable v1')\n",
    "v1=float(input())\n",
    "print('enter the second float variable v2')\n",
    "v2=float(input())\n",
    "s=v1\n",
    "v1=v2\n",
    "v2=s\n",
    "print('the swapped variables are v1,v2=', v1,',', v2)\n"
   ]
  },
  {
   "cell_type": "code",
   "execution_count": 13,
   "id": "f512a077",
   "metadata": {},
   "outputs": [
    {
     "name": "stdout",
     "output_type": "stream",
     "text": [
      "48\n"
     ]
    }
   ],
   "source": [
    "#program to generate a random number\n",
    "import random\n",
    "r=random.randint(6,91)\n",
    "print(r)"
   ]
  },
  {
   "cell_type": "code",
   "execution_count": null,
   "id": "f6445439",
   "metadata": {},
   "outputs": [],
   "source": []
  },
  {
   "cell_type": "code",
   "execution_count": null,
   "id": "378e8eb0",
   "metadata": {},
   "outputs": [],
   "source": []
  },
  {
   "cell_type": "code",
   "execution_count": null,
   "id": "132aac4b",
   "metadata": {},
   "outputs": [],
   "source": []
  },
  {
   "cell_type": "code",
   "execution_count": null,
   "id": "b7ff0fcc",
   "metadata": {},
   "outputs": [],
   "source": []
  },
  {
   "cell_type": "code",
   "execution_count": null,
   "id": "d701393a",
   "metadata": {},
   "outputs": [],
   "source": []
  },
  {
   "cell_type": "code",
   "execution_count": null,
   "id": "2617bd35",
   "metadata": {},
   "outputs": [],
   "source": []
  },
  {
   "cell_type": "code",
   "execution_count": null,
   "id": "e52a5abc",
   "metadata": {},
   "outputs": [],
   "source": []
  },
  {
   "cell_type": "code",
   "execution_count": null,
   "id": "fb305193",
   "metadata": {},
   "outputs": [],
   "source": []
  },
  {
   "cell_type": "code",
   "execution_count": null,
   "id": "adb380c6",
   "metadata": {},
   "outputs": [],
   "source": []
  }
 ],
 "metadata": {
  "kernelspec": {
   "display_name": "Python 3 (ipykernel)",
   "language": "python",
   "name": "python3"
  },
  "language_info": {
   "codemirror_mode": {
    "name": "ipython",
    "version": 3
   },
   "file_extension": ".py",
   "mimetype": "text/x-python",
   "name": "python",
   "nbconvert_exporter": "python",
   "pygments_lexer": "ipython3",
   "version": "3.9.7"
  }
 },
 "nbformat": 4,
 "nbformat_minor": 5
}
